{
 "metadata": {
  "language_info": {
   "codemirror_mode": {
    "name": "ipython",
    "version": 3
   },
   "file_extension": ".py",
   "mimetype": "text/x-python",
   "name": "python",
   "nbconvert_exporter": "python",
   "pygments_lexer": "ipython3",
   "version": "3.8.7-final"
  },
  "orig_nbformat": 2,
  "kernelspec": {
   "name": "python38764bit7de1e153779d4d2c995c8eebd1d8d80b",
   "display_name": "Python 3.8.7 64-bit",
   "language": "python"
  }
 },
 "nbformat": 4,
 "nbformat_minor": 2,
 "cells": [
  {
   "cell_type": "code",
   "execution_count": 1,
   "metadata": {},
   "outputs": [],
   "source": [
    "from data_loader import get_data_loader"
   ]
  },
  {
   "cell_type": "code",
   "execution_count": 2,
   "metadata": {},
   "outputs": [],
   "source": [
    "path = 'data'\n",
    "label_path = 'data_labels.csv'\n",
    "batch_size = 2\n",
    "shuffle = True\n",
    "num_workers = 2"
   ]
  },
  {
   "cell_type": "code",
   "execution_count": 3,
   "metadata": {},
   "outputs": [],
   "source": [
    "data_loader = get_data_loader(path, label_path, batch_size, shuffle, num_workers)"
   ]
  },
  {
   "cell_type": "code",
   "execution_count": 4,
   "metadata": {},
   "outputs": [
    {
     "output_type": "stream",
     "name": "stdout",
     "text": [
      "0 [tensor([[[[0, 0, 0],\n          [0, 0, 0],\n          [0, 0, 0],\n          ...,\n          [0, 0, 0],\n          [0, 0, 0],\n          [0, 0, 0]],\n\n         [[0, 0, 0],\n          [0, 0, 0],\n          [0, 0, 0],\n          ...,\n          [0, 0, 0],\n          [0, 0, 0],\n          [0, 0, 0]],\n\n         [[0, 0, 0],\n          [0, 0, 0],\n          [0, 0, 0],\n          ...,\n          [0, 0, 0],\n          [0, 0, 0],\n          [0, 0, 0]],\n\n         ...,\n\n         [[0, 0, 0],\n          [0, 0, 0],\n          [0, 0, 0],\n          ...,\n          [0, 0, 0],\n          [0, 0, 0],\n          [0, 0, 0]],\n\n         [[0, 0, 0],\n          [0, 0, 0],\n          [0, 0, 0],\n          ...,\n          [0, 0, 0],\n          [0, 0, 0],\n          [0, 0, 0]],\n\n         [[0, 0, 0],\n          [0, 0, 0],\n          [0, 0, 0],\n          ...,\n          [0, 0, 0],\n          [0, 0, 0],\n          [0, 0, 0]]],\n\n\n        [[[0, 0, 0],\n          [0, 0, 0],\n          [0, 0, 0],\n          ...,\n          [0, 0, 0],\n          [0, 0, 0],\n          [0, 0, 0]],\n\n         [[0, 0, 0],\n          [0, 0, 0],\n          [0, 0, 0],\n          ...,\n          [0, 0, 0],\n          [0, 0, 0],\n          [0, 0, 0]],\n\n         [[0, 0, 0],\n          [0, 0, 0],\n          [0, 0, 0],\n          ...,\n          [0, 0, 0],\n          [0, 0, 0],\n          [0, 0, 0]],\n\n         ...,\n\n         [[0, 0, 0],\n          [0, 0, 0],\n          [0, 0, 0],\n          ...,\n          [0, 0, 0],\n          [0, 0, 0],\n          [0, 0, 0]],\n\n         [[0, 0, 0],\n          [0, 0, 0],\n          [0, 0, 0],\n          ...,\n          [0, 0, 0],\n          [0, 0, 0],\n          [0, 0, 0]],\n\n         [[0, 0, 0],\n          [0, 0, 0],\n          [0, 0, 0],\n          ...,\n          [0, 0, 0],\n          [0, 0, 0],\n          [0, 0, 0]]]], dtype=torch.uint8), [('Series([], )', 'Series([], )'), ('Series([], )', 'Series([], )')], [('Series([], )', 'Series([], )')]]\n"
     ]
    }
   ],
   "source": [
    "for i, st in enumerate(data_loader): # 取得的内容分别是该轮编号和(batch_size, __getitem__()的返回值)\n",
    "    print(i, st)\n",
    "    break"
   ]
  },
  {
   "cell_type": "code",
   "execution_count": 5,
   "metadata": {},
   "outputs": [
    {
     "output_type": "stream",
     "name": "stdout",
     "text": [
      "<class 'torch.Tensor'>\n<class 'list'>\n<class 'list'>\n"
     ]
    }
   ],
   "source": [
    "print(type(st[0]))\n",
    "print(type(st[1]))\n",
    "print(type(st[2]))"
   ]
  },
  {
   "cell_type": "code",
   "execution_count": 6,
   "metadata": {},
   "outputs": [
    {
     "output_type": "execute_result",
     "data": {
      "text/plain": [
       "torch.Size([2, 1080, 1920, 3])"
      ]
     },
     "metadata": {},
     "execution_count": 6
    }
   ],
   "source": [
    "st[0].shape # (batch_size,w,h,c)"
   ]
  },
  {
   "cell_type": "code",
   "execution_count": 7,
   "metadata": {},
   "outputs": [
    {
     "output_type": "execute_result",
     "data": {
      "text/plain": [
       "[('Series([], )', 'Series([], )'), ('Series([], )', 'Series([], )')]"
      ]
     },
     "metadata": {},
     "execution_count": 7
    }
   ],
   "source": [
    "st[1] # (batch_size个list，存的是类型和结果)"
   ]
  },
  {
   "cell_type": "code",
   "execution_count": 8,
   "metadata": {},
   "outputs": [
    {
     "output_type": "execute_result",
     "data": {
      "text/plain": [
       "[('Series([], )', 'Series([], )')]"
      ]
     },
     "metadata": {},
     "execution_count": 8
    }
   ],
   "source": [
    "st[2] # (batch_size个描述)"
   ]
  }
 ]
}